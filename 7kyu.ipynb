{
 "cells": [
  {
   "cell_type": "code",
   "execution_count": 2,
   "metadata": {},
   "outputs": [
    {
     "name": "stdout",
     "output_type": "stream",
     "text": [
      "Basic tests\n",
      "<COMPLETEDIN::>\n"
     ]
    }
   ],
   "source": [
    "def max_number(n):\n",
    "    numStr = str(n) #turn your int n into a string\n",
    "    max_num_Str = \"\"\n",
    "    digitList = []\n",
    "    \n",
    "    for digitStr in numStr:\n",
    "        digitList.append(int(digitStr))\n",
    "    \n",
    "    digitList.sort(reverse=True)\n",
    "    \n",
    "    for digit in digitList:\n",
    "        max_num_Str += str(digit)\n",
    "        \n",
    "    return int(max_num_Str)\n",
    "    \n",
    "    \n",
    "        \n",
    "    \n",
    "\n",
    "print(\"Basic tests\")\n",
    "assert max_number(213) == 321\n",
    "assert max_number(7389) == 9873\n",
    "assert max_number(63792) == 97632\n",
    "assert max_number(566797) == 977665\n",
    "assert max_number(1000000) == 1000000\n",
    "print(\"<COMPLETEDIN::>\")"
   ]
  },
  {
   "cell_type": "code",
   "execution_count": 3,
   "metadata": {},
   "outputs": [],
   "source": [
    "# Return the number (count) of vowels in the given string.\n",
    "# We will consider a, e, i, o, and u as vowels for this Kata.\n",
    "# The input string will only consist of lower case letters and/or spaces.\n",
    "#https://www.codewars.com/kata/vowel-count/train/python\n",
    "\n",
    "def getCount(inputStr):\n",
    "    num_vowels = 0\n",
    "    # your code here\n",
    "    vowels = [\"a\", \"e\", \"i\", \"o\", \"u\"]\n",
    "    \n",
    "    for i in inputStr:\n",
    "        for v in vowels:\n",
    "            if i == v:\n",
    "                num_vowels +=1\n",
    "    return num_vowels\n",
    "\n",
    "assert getCount(\"abracadabra\") == 5"
   ]
  },
  {
   "cell_type": "code",
   "execution_count": 1,
   "metadata": {},
   "outputs": [],
   "source": [
    "#https://www.codewars.com/kata/parts-of-a-list/train/python\n",
    "\n",
    "def partlist(arr):\n",
    "    \n",
    "    finallist = []\n",
    "    \n",
    "    for i in range(1,len(arr)):\n",
    "        #print(i)\n",
    "        part1 = \" \".join(arr[0:i])\n",
    "        part2 = \" \".join(arr[i:len(arr)])\n",
    "        finallist.append((part1,part2))\n",
    "    \n",
    "    return finallist\n",
    "\n",
    "def testing(actual, expected):\n",
    "    Test.assert_equals(actual, expected)\n",
    "\n",
    "#Test.describe(\"partlist\")\n",
    "# Test.it(\"Basic tests\")\n",
    "# testing(partlist([\"I\", \"wish\", \"I\", \"hadn't\", \"come\"]),\n",
    "#     [(\"I\", \"wish I hadn't come\"), (\"I wish\", \"I hadn't come\"), (\"I wish I\", \"hadn't come\"), (\"I wish I hadn't\", \"come\")])\n",
    "# testing(partlist([\"cdIw\", \"tzIy\", \"xDu\", \"rThG\"]), \n",
    "#     [(\"cdIw\", \"tzIy xDu rThG\"), (\"cdIw tzIy\", \"xDu rThG\"), (\"cdIw tzIy xDu\", \"rThG\")])\n",
    "# testing(partlist([\"vJQ\", \"anj\", \"mQDq\", \"sOZ\"]), \n",
    "#     [(\"vJQ\", \"anj mQDq sOZ\"), (\"vJQ anj\", \"mQDq sOZ\"), (\"vJQ anj mQDq\", \"sOZ\")])\n",
    "        \n",
    "        "
   ]
  },
  {
   "cell_type": "code",
   "execution_count": 2,
   "metadata": {},
   "outputs": [],
   "source": [
    "#NAME OF KATA: Frequency sequence\n",
    "#URL: https://www.codewars.com/kata/frequency-sequence/train/python\n",
    "\n",
    "def freq_seq(s, sep):\n",
    "    \n",
    "    letters = set(s)\n",
    "    #print(letters);\n",
    "    dict_letters = dict.fromkeys(letters, 0)\n",
    "    \n",
    "    for char in s:\n",
    "        dict_letters[char] += 1\n",
    "    \n",
    "    freq = \"\"\n",
    "    count = 0\n",
    "    \n",
    "    for char in s:\n",
    "        if count < len(s)-1:\n",
    "            freq += str(dict_letters[char]) + sep\n",
    "        else:\n",
    "            freq += str(dict_letters[char])\n",
    "        count +=1\n",
    "    \n",
    "    #print(dict_letters);\n",
    "    #print(freq)\n",
    "    \n",
    "    return freq\n"
   ]
  },
  {
   "cell_type": "code",
   "execution_count": 1,
   "metadata": {},
   "outputs": [
    {
     "ename": "SyntaxError",
     "evalue": "invalid syntax (<ipython-input-1-cf7996726068>, line 14)",
     "output_type": "error",
     "traceback": [
      "\u001b[0;36m  File \u001b[0;32m\"<ipython-input-1-cf7996726068>\"\u001b[0;36m, line \u001b[0;32m14\u001b[0m\n\u001b[0;31m    while\u001b[0m\n\u001b[0m          ^\u001b[0m\n\u001b[0;31mSyntaxError\u001b[0m\u001b[0;31m:\u001b[0m invalid syntax\n"
     ]
    }
   ],
   "source": [
    "#MUMBLING\n",
    "#https://www.codewars.com/kata/mumbling/train/python\n",
    "\n",
    "def accum(s):\n",
    "    \n",
    "    letter_list = list(s)\n",
    "    \n",
    "    print(letter_list)\n",
    "    \n",
    "    accum_val = \"\"\n",
    "    count = 0\n",
    "    \n",
    "    for letter in s:\n",
    "        while \n",
    "        \n",
    "        "
   ]
  },
  {
   "cell_type": "code",
   "execution_count": null,
   "metadata": {},
   "outputs": [],
   "source": [
    "#Double Sort\n",
    "#URL: https://www.codewars.com/kata/double-sort/train/python\n",
    "\n",
    "def db_sort(arr): \n",
    "    \n",
    "    arrNum = []\n",
    "    arrWord = []\n",
    "    \n",
    "    for item in arr:\n",
    "        if type(item) == type(0):\n",
    "            arrNum.append(item)\n",
    "        else:\n",
    "            arrWord.append(item)\n",
    "    arrNum.sort()\n",
    "    arrWord.sort()\n",
    "\n",
    "    if len(arrWord) == 0:\n",
    "        return arrNum\n",
    "    if len(arrNum) == 0:\n",
    "        return arrWord\n",
    "    else:\n",
    "        return arrNum + arrWord\n",
    "    "
   ]
  }
 ],
 "metadata": {
  "kernelspec": {
   "display_name": "Python 3",
   "language": "python",
   "name": "python3"
  },
  "language_info": {
   "codemirror_mode": {
    "name": "ipython",
    "version": 3
   },
   "file_extension": ".py",
   "mimetype": "text/x-python",
   "name": "python",
   "nbconvert_exporter": "python",
   "pygments_lexer": "ipython3",
   "version": "3.7.1"
  }
 },
 "nbformat": 4,
 "nbformat_minor": 2
}
