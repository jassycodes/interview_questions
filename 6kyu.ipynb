{
 "cells": [
  {
   "cell_type": "code",
   "execution_count": null,
   "metadata": {},
   "outputs": [],
   "source": [
    "import math \n",
    "\n",
    "def comp(array1, array2): \n",
    "    numOfsqrt = 0 \n",
    "    for i in array1: \n",
    "        for j in array2: \n",
    "            if i == math.sqrt(j): \n",
    "                print(str(i) + \" squareroot of \" + str(j)) \n",
    "                numOfsqrt +=1 \n",
    "                #print(numOfsqrt) \n",
    "    print(numOfsqrt)\n",
    "    print(len(array1))\n",
    "    if numOfsqrt == len(array1)+len(array2): \n",
    "        return True \n",
    "    else: \n",
    "        return False"
   ]
  }
 ],
 "metadata": {
  "kernelspec": {
   "display_name": "Python 3",
   "language": "python",
   "name": "python3"
  },
  "language_info": {
   "codemirror_mode": {
    "name": "ipython",
    "version": 3
   },
   "file_extension": ".py",
   "mimetype": "text/x-python",
   "name": "python",
   "nbconvert_exporter": "python",
   "pygments_lexer": "ipython3",
   "version": "3.7.1"
  }
 },
 "nbformat": 4,
 "nbformat_minor": 2
}
