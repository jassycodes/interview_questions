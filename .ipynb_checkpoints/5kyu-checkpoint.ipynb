{
 "cells": [
  {
   "cell_type": "code",
   "execution_count": 5,
   "metadata": {},
   "outputs": [],
   "source": [
    "def valid_parentheses(string):\n",
    "    #your code here\n",
    "    count = 0\n",
    "    \n",
    "    for char in string:\n",
    "        if count < 0:\n",
    "            return False\n",
    "        if char == \"(\":\n",
    "            count += 1\n",
    "        if char == \")\":\n",
    "            count -= 1\n",
    "    \n",
    "    return count == 0\n",
    "\n",
    "\n",
    "assert valid_parentheses(\"  (\") == False\n",
    "assert valid_parentheses(\")test\") == False\n",
    "assert valid_parentheses(\"\") == True\n",
    "assert valid_parentheses(\"hi())(\") == False\n",
    "assert valid_parentheses(\"hi(hi)()\") == True"
   ]
  },
  {
   "cell_type": "code",
   "execution_count": null,
   "metadata": {},
   "outputs": [],
   "source": []
  }
 ],
 "metadata": {
  "kernelspec": {
   "display_name": "Python 3",
   "language": "python",
   "name": "python3"
  },
  "language_info": {
   "codemirror_mode": {
    "name": "ipython",
    "version": 3
   },
   "file_extension": ".py",
   "mimetype": "text/x-python",
   "name": "python",
   "nbconvert_exporter": "python",
   "pygments_lexer": "ipython3",
   "version": "3.7.1"
  }
 },
 "nbformat": 4,
 "nbformat_minor": 2
}
