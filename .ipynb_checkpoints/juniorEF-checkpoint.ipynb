{
 "cells": [
  {
   "cell_type": "code",
   "execution_count": null,
   "metadata": {},
   "outputs": [],
   "source": [
    "# https://www.cemc.uwaterloo.ca/contests/computing/2018/stage%201/juniorEF.pdf\n",
    "# Problem J1: Telemarketer or not?\n",
    "\n",
    "#we have noted that telemarketers like to use\n",
    "# seven-digit phone numbers where the last four digits have three properties. Looking \n",
    "# just at the last four digits, these properties are:\n",
    "# • the first of these four digits is an 8 or 9;\n",
    "# • the last digit is an 8 or 9;\n",
    "# • the second and third digits are the same.\n",
    "\n",
    "#Format: NNN - NNN - 8|9(SS)8|9\n",
    "\n",
    "#Input Specification\n",
    "# The input will be 4 lines where each line contains exactly one digit in the range from 0 to 9.\n",
    "\n",
    "first = int(input(\"1st number in the last 4 digits of the phone number: \"))\n",
    "second = int(input(\"2nd number in the last 4 digits of the phone number: \"))\n",
    "third = int(input(\"3rd number in the last 4 digits of the phone number: \"))\n",
    "fourth = int(input(\"4th number in the last 4 digits of the phone number: \"))\n",
    "\n",
    "print(\"Last 4 digits: \" + str(first) + str(second) + str(third) + str(fourth))\n",
    "\n",
    "if (first == 8 or first == 9) and (second == third) and (fourth == 8 or fourth == 9):\n",
    "    print(\"ignore\")\n",
    "else:\n",
    "\tprint(\"answer call\")\n"
   ]
  },
  {
   "cell_type": "code",
   "execution_count": null,
   "metadata": {},
   "outputs": [],
   "source": [
    "# Problem J2: Occupy parking\n",
    "\n",
    "# How many of the parking spaces were occupied both yesterday and today?\n",
    "# Input Specification\n",
    "# The first line of input contains the integer N (1 ≤ N ≤ 100). The second and third lines of input\n",
    "# contain N characters each. The second line of input records the information about yesterday’s\n",
    "# parking spaces, and the third line of input records the information about today’s parking spaces.\n",
    "# Each of these 2N characters will either be C to indicate an occupied space or . to indicate it was\n",
    "# an empty parking space\n",
    "\n",
    "firstInput = 0\n",
    "while firstInput <= 1 or firstInput >= 100:\n",
    "\tfirstInput = int(input(\"Input 1: \"))\n",
    "\t\n",
    "yesterday = \"\"\n",
    "today = \"\"\n",
    "\n",
    "occupied = \"C\"\n",
    "vacant = \".\"\n",
    "\n",
    "while len(yesterday) != firstInput:\n",
    "\tyesterday = input(\"YDAY: \") #information about yesterday’s parking spaces\n",
    "\t\n",
    "while len(today) != firstInput:\n",
    "\ttoday = input(\"TDAY: \") #records the information about today’s parking spaces.\n",
    "\n",
    "i = 0\n",
    "count = 0\n",
    "\n",
    "\n",
    "while i < firstInput:\n",
    "\tif today[i] == occupied and yesterday[i] == today[i]:\n",
    "\t\tcount += 1\n",
    "\ti += 1\n",
    "    \n",
    "print(count)\n",
    "\n",
    "\n"
   ]
  },
  {
   "cell_type": "code",
   "execution_count": 8,
   "metadata": {},
   "outputs": [
    {
     "name": "stdout",
     "output_type": "stream",
     "text": [
      "What are the distances: 1 2 3 4\n",
      "1 2 3 4\n",
      "[1, 2, 3, 4]\n"
     ]
    }
   ],
   "source": [
    "# Problem J3: Are we there yet?\n",
    "\n",
    "distances = input(\"What are the distances: \")\n",
    "print(distances)\n",
    "\n",
    "distancesNum = list(map(int, distances.split()))\n"
   ]
  },
  {
   "cell_type": "code",
   "execution_count": null,
   "metadata": {},
   "outputs": [],
   "source": []
  }
 ],
 "metadata": {
  "kernelspec": {
   "display_name": "Python 3",
   "language": "python",
   "name": "python3"
  }
 },
 "nbformat": 4,
 "nbformat_minor": 2
}
