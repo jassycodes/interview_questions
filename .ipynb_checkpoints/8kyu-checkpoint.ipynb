{
 "cells": [
  {
   "cell_type": "code",
   "execution_count": 2,
   "metadata": {},
   "outputs": [
    {
     "name": "stdout",
     "output_type": "stream",
     "text": [
      "Basic tests\n"
     ]
    }
   ],
   "source": [
    "def sum_mix(arr):\n",
    "    sum = 0\n",
    "    \n",
    "    for item in arr:\n",
    "        if type(item) != type(0):\n",
    "            sum += int(item)\n",
    "        else:\n",
    "            sum += item\n",
    "    \n",
    "    return sum\n",
    "\n",
    "print(\"Basic tests\")\n",
    "assert sum_mix([9, 3, '7', '3']) == 22\n",
    "assert sum_mix(['5', '0', 9, 3, 2, 1, '9', 6, 7]) == 42\n",
    "assert sum_mix(['3', 6, 6, 0, '5', 8, 5, '6', 2,'0']) == 41\n",
    "assert sum_mix(['1', '5', '8', 8, 9, 9, 2, '3']) == 45\n",
    "assert sum_mix([8, 0, 0, 8, 5, 7, 2, 3, 7, 8, 6, 7]) == 61"
   ]
  },
  {
   "cell_type": "code",
   "execution_count": 6,
   "metadata": {},
   "outputs": [],
   "source": [
    "def even_or_odd(n):\n",
    "    if n%2 == 0:\n",
    "        return \"Even\"\n",
    "    else:\n",
    "        return \"Odd\"\n",
    "\n",
    "assert even_or_odd(15) == \"Odd\"\n",
    "assert even_or_odd(2) == \"Even\"\n",
    "assert even_or_odd(0) == \"Even\"\n",
    "assert even_or_odd(7) == \"Odd\"\n",
    "assert even_or_odd(1) == \"Odd\"\n",
    "assert even_or_odd(-1) == \"Odd\""
   ]
  },
  {
   "cell_type": "code",
   "execution_count": null,
   "metadata": {},
   "outputs": [],
   "source": [
    "def remove_char(s):\n",
    "    counter = 0\n",
    "    newStr = \"\"\n",
    "    \n",
    "    for char in s:\n",
    "       # print(counter)\n",
    "        if counter != 0 and counter != len(s)-1:\n",
    "            newStr += char\n",
    "            #print(char)\n",
    "        counter += 1\n",
    "    \n",
    "    return newStr\n",
    "\n",
    "Test.describe(\"Tests\")\n",
    "Test.assert_equals(remove_char('eloquent'), 'loquen')\n",
    "Test.assert_equals(remove_char('country'), 'ountr')\n",
    "Test.assert_equals(remove_char('person'), 'erso')\n",
    "Test.assert_equals(remove_char('place'), 'lac')\n",
    "Test.assert_equals(remove_char('ok'), '')"
   ]
  }
 ],
 "metadata": {
  "kernelspec": {
   "display_name": "Python 3",
   "language": "python",
   "name": "python3"
  },
  "language_info": {
   "codemirror_mode": {
    "name": "ipython",
    "version": 3
   },
   "file_extension": ".py",
   "mimetype": "text/x-python",
   "name": "python",
   "nbconvert_exporter": "python",
   "pygments_lexer": "ipython3",
   "version": "3.7.1"
  }
 },
 "nbformat": 4,
 "nbformat_minor": 2
}
